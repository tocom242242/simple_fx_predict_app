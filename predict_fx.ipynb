{
  "nbformat": 4,
  "nbformat_minor": 0,
  "metadata": {
    "colab": {
      "name": "predict_fx.ipynb",
      "provenance": [],
      "collapsed_sections": [],
      "mount_file_id": "1EPHdyyUrk-uETHR75nDbsy8eRBj0-4EM",
      "authorship_tag": "ABX9TyPrOuPeCPC2h4yMzkOWlmvl",
      "include_colab_link": true
    },
    "kernelspec": {
      "name": "python3",
      "display_name": "Python 3"
    }
  },
  "cells": [
    {
      "cell_type": "markdown",
      "metadata": {
        "id": "view-in-github",
        "colab_type": "text"
      },
      "source": [
        "<a href=\"https://colab.research.google.com/github/tocom242242/simple_fx_predict_app/blob/master/predict_fx.ipynb\" target=\"_parent\"><img src=\"https://colab.research.google.com/assets/colab-badge.svg\" alt=\"Open In Colab\"/></a>"
      ]
    },
    {
      "cell_type": "code",
      "metadata": {
        "id": "jWDMr0rYf6fd",
        "colab_type": "code",
        "colab": {
          "base_uri": "https://localhost:8080/",
          "height": 269
        },
        "outputId": "e55d17ed-1e4f-4f74-c594-e7a0164f9396"
      },
      "source": [
        "!pip install oandapyV20\n",
        "!pip install schedule"
      ],
      "execution_count": null,
      "outputs": [
        {
          "output_type": "stream",
          "text": [
            "Collecting oandapyV20\n",
            "\u001b[?25l  Downloading https://files.pythonhosted.org/packages/0d/d5/f69c978f485db3048886c447398e39c6ec18041e689656e6d31697ea4e7f/oandapyV20-0.6.3.tar.gz (52kB)\n",
            "\r\u001b[K     |██████▏                         | 10kB 16.4MB/s eta 0:00:01\r\u001b[K     |████████████▍                   | 20kB 4.1MB/s eta 0:00:01\r\u001b[K     |██████████████████▋             | 30kB 5.5MB/s eta 0:00:01\r\u001b[K     |████████████████████████▉       | 40kB 6.5MB/s eta 0:00:01\r\u001b[K     |███████████████████████████████ | 51kB 6.3MB/s eta 0:00:01\r\u001b[K     |████████████████████████████████| 61kB 3.9MB/s \n",
            "\u001b[?25hBuilding wheels for collected packages: oandapyV20\n",
            "  Building wheel for oandapyV20 (setup.py) ... \u001b[?25l\u001b[?25hdone\n",
            "  Created wheel for oandapyV20: filename=oandapyV20-0.6.3-cp36-none-any.whl size=69742 sha256=5aeafd65bdd4c0d82adc0ce30fa4a6ec801966f17634d3d5dcbbbf72aac5aa45\n",
            "  Stored in directory: /root/.cache/pip/wheels/2c/b0/cd/49054320a6cc51db0ff4f1ee15d8840375f16cef57b81ebfc0\n",
            "Successfully built oandapyV20\n",
            "Installing collected packages: oandapyV20\n",
            "Successfully installed oandapyV20-0.6.3\n",
            "Collecting schedule\n",
            "  Downloading https://files.pythonhosted.org/packages/57/22/3a709462eb02412bd1145f6e53604f36bba191e3e4e397bea4a718fec38c/schedule-0.6.0-py2.py3-none-any.whl\n",
            "Installing collected packages: schedule\n",
            "Successfully installed schedule-0.6.0\n"
          ],
          "name": "stdout"
        }
      ]
    },
    {
      "cell_type": "code",
      "metadata": {
        "id": "gc5ccnQt-6z5",
        "colab_type": "code",
        "colab": {}
      },
      "source": [
        "ACCESS_TOKEN = \"********************************************\"  # あなたのOANDA API のアクセストークン\n",
        "COUNT = 5000        # 一度に取得するデータ数(max:5000)\n",
        "COUNT_TIMES = 1         # count * COUNT_TIMES 分データを取得\n",
        "GRANULARITY = \"M5\"   # 足の種類。今回は５分足\n",
        "INSTRUMENT = \"USD_JPY\"    # USD/JPY\n",
        "INPUT_LEN = 10            # 入力の長さ。現時点から10足前までのデータを入力とする。\n",
        "EPOCHS = 100              # ニューラルネットワークの学習EPOCH\n",
        "BATCH_SIZE = 32           # ニューラルネットワークのバッチサイズ\n",
        "PREDICT_INTERVAL = 1     # 予測の更新頻度 (分)\n",
        "\n",
        "# 学習結果のモデルの保存先\n",
        "MODEL_PATH = \"/content/drive/My Drive/simple_fx_predict_app/models/model.json\"\n",
        "WEIGHTS_PATH = \"/content/drive/My Drive/simple_fx_predict_app/models/weights.h5\"\n"
      ],
      "execution_count": null,
      "outputs": []
    },
    {
      "cell_type": "code",
      "metadata": {
        "id": "ZZtOTL4chDXf",
        "colab_type": "code",
        "colab": {
          "base_uri": "https://localhost:8080/",
          "height": 409
        },
        "outputId": "55aa6d69-dce7-4b25-86f3-4de28ce3fd24"
      },
      "source": [
        "from oandapyV20 import API\n",
        "import oandapyV20.endpoints.instruments as instruments\n",
        "import pandas as pd\n",
        "import numpy as np\n",
        "import matplotlib.pyplot as plt\n",
        "\n",
        "# OANDA APIにアクセスする\n",
        "api = API(access_token=ACCESS_TOKEN, environment=\"practice\")\n",
        "\n",
        "def get_prices(granularity, count, count_times):\n",
        "    \"\"\"\n",
        "        終わり値を取得する\n",
        "    \"\"\"\n",
        "    params = {\n",
        "        \"granularity\": granularity,\n",
        "        \"count\": count,\n",
        "        \"price\": \"B\",\n",
        "    }\n",
        "\n",
        "    candles = None\n",
        "    for i in range(count_times):\n",
        "        instruments_candles = instruments.InstrumentsCandles(\n",
        "            instrument=INSTRUMENT, params=params)\n",
        "        # OANDA APIにリクエスト \n",
        "        api.request(instruments_candles)\n",
        "        response = instruments_candles.response\n",
        "        new_candles = pd.DataFrame(response[\"candles\"])\n",
        "        params[\"to\"] = new_candles[\"time\"].iloc[0]\n",
        "        # 取得したデータをつなげる \n",
        "        candles = pd.concat([new_candles, candles])\n",
        "\n",
        "    # 終値だけを抽出する\n",
        "    prices = np.array([x[\"c\"] for x in candles[\"bid\"].values])\n",
        "    prices = prices.astype(np.float64)\n",
        "    prices = prices.reshape(-1, 1)\n",
        "\n",
        "    return prices \n",
        "\n",
        "\n",
        "    \n",
        "prices = get_prices(GRANULARITY, COUNT, COUNT_TIMES)\n",
        "print(prices)\n",
        "\n",
        "# データのプロット\n",
        "fig, ax = plt.subplots()\n",
        "x = np.arange(len(prices))\n",
        "ax.plot(x, prices)"
      ],
      "execution_count": null,
      "outputs": [
        {
          "output_type": "stream",
          "text": [
            "[[105.462]\n",
            " [105.517]\n",
            " [105.506]\n",
            " ...\n",
            " [106.078]\n",
            " [106.099]\n",
            " [106.114]]\n"
          ],
          "name": "stdout"
        },
        {
          "output_type": "execute_result",
          "data": {
            "text/plain": [
              "[<matplotlib.lines.Line2D at 0x7f0b23a3bdd8>]"
            ]
          },
          "metadata": {
            "tags": []
          },
          "execution_count": 4
        },
        {
          "output_type": "display_data",
          "data": {
            "image/png": "[encoded data removed]",
            "text/plain": [
              "<Figure size 432x288 with 1 Axes>"
            ]
          },
          "metadata": {
            "tags": [],
            "needs_background": "light"
          }
        }
      ]
    },
    {
      "cell_type": "code",
      "metadata": {
        "id": "lCDi97CpicO1",
        "colab_type": "code",
        "colab": {
          "base_uri": "https://localhost:8080/",
          "height": 197
        },
        "outputId": "e4a29d37-900f-49af-a9ba-292f5b8c1378"
      },
      "source": [
        "from sklearn.preprocessing import MinMaxScaler\n",
        "\n",
        "# データの取得\n",
        "prices = get_prices(GRANULARITY, COUNT, COUNT_TIMES)\n",
        "\n",
        "# データの正規化0〜１の間の数値に\n",
        "sc = MinMaxScaler(feature_range=(0, 1))\n",
        "prices = sc.fit_transform(prices)\n",
        "\n",
        "def create_data_for_model(prices):\n",
        "    \"\"\"\n",
        "        入力 x=[x1,x2,,,] -> 出力 y\n",
        "        といった形で学習・テスト用のデータの作成\n",
        "    \"\"\"\n",
        "\n",
        "    X, Y = [], []\n",
        "    prices_len = len(prices)\n",
        "    for i, _ in enumerate(prices):\n",
        "        if (i + INPUT_LEN + 1 >= prices_len):\n",
        "            break\n",
        "        X.append(prices[i:i + INPUT_LEN])\n",
        "        Y.append(prices[i + INPUT_LEN + 1])\n",
        "\n",
        "    X = np.array(X)\n",
        "    Y = np.array(Y)\n",
        "\n",
        "    # 学習用・テスト用に分割\n",
        "    split_index = int(len(prices) * 0.7)\n",
        "    X_train = X[:split_index]\n",
        "    Y_train = Y[:split_index]\n",
        "    X_test = X[split_index:]\n",
        "    Y_test = Y[split_index:]\n",
        "\n",
        "    return X_train, Y_train, X_test, Y_test\n",
        "\n",
        "# 学習・テスト用データの作成\n",
        "X_train, Y_train, X_test, Y_test = create_data_for_model(prices)\n",
        "\n",
        "# データの確認\n",
        "print(\"x:{} => y:{}\".format(X_train[0], Y_train[0]))\n"
      ],
      "execution_count": null,
      "outputs": [
        {
          "output_type": "stream",
          "text": [
            "x:[[0.44342615]\n",
            " [0.46281283]\n",
            " [0.4589355 ]\n",
            " [0.44765597]\n",
            " [0.45928798]\n",
            " [0.46704265]\n",
            " [0.45541065]\n",
            " [0.43743391]\n",
            " [0.4282693 ]\n",
            " [0.40676771]] => y:[0.40148044]\n"
          ],
          "name": "stdout"
        }
      ]
    },
    {
      "cell_type": "code",
      "metadata": {
        "id": "HUIWknuz_clD",
        "colab_type": "code",
        "colab": {
          "base_uri": "https://localhost:8080/",
          "height": 1000
        },
        "outputId": "46473785-44e8-47ab-edda-9d58d2c59396"
      },
      "source": [
        "import tensorflow\n",
        "from tensorflow.keras.models import Sequential\n",
        "from tensorflow.keras.layers import Dense, Activation, Flatten\n",
        "import json\n",
        "\n",
        "\n",
        "# モデルの作成\n",
        "model = Sequential()\n",
        "model.add(Flatten(input_shape=[INPUT_LEN, 1]))\n",
        "model.add(Dense(32))\n",
        "model.add(Activation(\"relu\"))\n",
        "model.add(Dense(32))\n",
        "model.add(Activation(\"relu\"))\n",
        "model.add(Dense(1))\n",
        "model.add(Activation(\"linear\"))\n",
        "\n",
        "model.compile(loss=\"mse\",   # 誤差関数\n",
        "              optimizer=\"adam\",     # 最適化手法\n",
        "              metrics=['accuracy'])\n",
        "\n",
        "# モデルの学習\n",
        "model.fit(X_train, Y_train, batch_size=BATCH_SIZE, epochs=EPOCHS)\n",
        "\n",
        "# 学習結果の保存\n",
        "# モデル構造の保存\n",
        "model_json = model.to_json()\n",
        "with open(MODEL_PATH, \"w\") as f:\n",
        "    json.dump(model_json, f, indent=4)\n",
        "# モデルの重みの保存\n",
        "model.save_weights(WEIGHTS_PATH)\n",
        "\n",
        "# 評価\n",
        "# 予測値の計算と変換\n",
        "predicted_y = model.predict(X_test)\n",
        "predicted_y = sc.inverse_transform(predicted_y)\n",
        "# 正解データの変換\n",
        "Y_test = sc.inverse_transform(Y_test)\n",
        "\n",
        "# 以下結果のプロット\n",
        "fig, ax = plt.subplots()\n",
        "# 正解データのプロット\n",
        "ax.plot(np.arange(len(Y_test)), Y_test, label=\"real\")\n",
        "# 予測値のプロット\n",
        "ax.plot(np.arange(len(predicted_y)), predicted_y, label=\"predicted_value\")\n",
        "\n",
        "# 凡例の表示\n",
        "ax.legend()"
      ],
      "execution_count": null,
      "outputs": [
        {
          "output_type": "stream",
          "text": [
            "Epoch 1/100\n",
            "110/110 [==============================] - 0s 1ms/step - loss: 0.0141 - accuracy: 2.8571e-04\n",
            "Epoch 2/100\n",
            "110/110 [==============================] - 0s 1ms/step - loss: 2.9827e-04 - accuracy: 2.8571e-04\n",
            "Epoch 3/100\n",
            "110/110 [==============================] - 0s 1ms/step - loss: 2.7306e-04 - accuracy: 2.8571e-04\n",
            "Epoch 4/100\n",
            "110/110 [==============================] - 0s 1ms/step - loss: 2.5821e-04 - accuracy: 2.8571e-04\n",
            "Epoch 5/100\n",
            "110/110 [==============================] - 0s 1ms/step - loss: 2.6336e-04 - accuracy: 2.8571e-04\n",
            "Epoch 6/100\n",
            "110/110 [==============================] - 0s 1ms/step - loss: 2.5246e-04 - accuracy: 2.8571e-04\n",
            "Epoch 7/100\n",
            "110/110 [==============================] - 0s 1ms/step - loss: 2.4692e-04 - accuracy: 2.8571e-04\n",
            "Epoch 8/100\n",
            "110/110 [==============================] - 0s 1ms/step - loss: 2.5106e-04 - accuracy: 2.8571e-04\n",
            "Epoch 9/100\n",
            "110/110 [==============================] - 0s 1ms/step - loss: 2.6753e-04 - accuracy: 2.8571e-04\n",
            "Epoch 10/100\n",
            "110/110 [==============================] - 0s 1ms/step - loss: 2.5377e-04 - accuracy: 2.8571e-04\n",
            "Epoch 11/100\n",
            "110/110 [==============================] - 0s 1ms/step - loss: 2.3538e-04 - accuracy: 2.8571e-04\n",
            "Epoch 12/100\n",
            "110/110 [==============================] - 0s 1ms/step - loss: 2.4305e-04 - accuracy: 2.8571e-04\n",
            "Epoch 13/100\n",
            "110/110 [==============================] - 0s 1ms/step - loss: 2.4094e-04 - accuracy: 2.8571e-04\n",
            "Epoch 14/100\n",
            "110/110 [==============================] - 0s 2ms/step - loss: 2.3729e-04 - accuracy: 2.8571e-04\n",
            "Epoch 15/100\n",
            "110/110 [==============================] - 0s 1ms/step - loss: 2.3044e-04 - accuracy: 2.8571e-04\n",
            "Epoch 16/100\n",
            "110/110 [==============================] - 0s 1ms/step - loss: 2.4181e-04 - accuracy: 2.8571e-04\n",
            "Epoch 17/100\n",
            "110/110 [==============================] - 0s 1ms/step - loss: 2.3766e-04 - accuracy: 2.8571e-04\n",
            "Epoch 18/100\n",
            "110/110 [==============================] - 0s 1ms/step - loss: 2.3030e-04 - accuracy: 2.8571e-04\n",
            "Epoch 19/100\n",
            "110/110 [==============================] - 0s 1ms/step - loss: 2.3483e-04 - accuracy: 2.8571e-04\n",
            "Epoch 20/100\n",
            "110/110 [==============================] - 0s 1ms/step - loss: 2.3674e-04 - accuracy: 2.8571e-04\n",
            "Epoch 21/100\n",
            "110/110 [==============================] - 0s 1ms/step - loss: 2.3988e-04 - accuracy: 2.8571e-04\n",
            "Epoch 22/100\n",
            "110/110 [==============================] - 0s 1ms/step - loss: 2.3185e-04 - accuracy: 2.8571e-04\n",
            "Epoch 23/100\n",
            "110/110 [==============================] - 0s 1ms/step - loss: 2.3134e-04 - accuracy: 2.8571e-04\n",
            "Epoch 24/100\n",
            "110/110 [==============================] - 0s 1ms/step - loss: 2.3720e-04 - accuracy: 2.8571e-04\n",
            "Epoch 25/100\n",
            "110/110 [==============================] - 0s 1ms/step - loss: 2.3494e-04 - accuracy: 2.8571e-04\n",
            "Epoch 26/100\n",
            "110/110 [==============================] - 0s 1ms/step - loss: 2.3640e-04 - accuracy: 2.8571e-04\n",
            "Epoch 27/100\n",
            "110/110 [==============================] - 0s 1ms/step - loss: 2.3289e-04 - accuracy: 2.8571e-04\n",
            "Epoch 28/100\n",
            "110/110 [==============================] - 0s 1ms/step - loss: 2.3911e-04 - accuracy: 2.8571e-04\n",
            "Epoch 29/100\n",
            "110/110 [==============================] - 0s 1ms/step - loss: 2.3418e-04 - accuracy: 2.8571e-04\n",
            "Epoch 30/100\n",
            "110/110 [==============================] - 0s 1ms/step - loss: 2.2266e-04 - accuracy: 2.8571e-04\n",
            "Epoch 31/100\n",
            "110/110 [==============================] - 0s 1ms/step - loss: 2.2136e-04 - accuracy: 2.8571e-04\n",
            "Epoch 32/100\n",
            "110/110 [==============================] - 0s 1ms/step - loss: 2.3145e-04 - accuracy: 2.8571e-04\n",
            "Epoch 33/100\n",
            "110/110 [==============================] - 0s 1ms/step - loss: 2.7422e-04 - accuracy: 2.8571e-04\n",
            "Epoch 34/100\n",
            "110/110 [==============================] - 0s 1ms/step - loss: 2.2855e-04 - accuracy: 2.8571e-04\n",
            "Epoch 35/100\n",
            "110/110 [==============================] - 0s 1ms/step - loss: 2.2596e-04 - accuracy: 2.8571e-04\n",
            "Epoch 36/100\n",
            "110/110 [==============================] - 0s 1ms/step - loss: 2.2571e-04 - accuracy: 2.8571e-04\n",
            "Epoch 37/100\n",
            "110/110 [==============================] - 0s 1ms/step - loss: 2.2544e-04 - accuracy: 2.8571e-04\n",
            "Epoch 38/100\n",
            "110/110 [==============================] - 0s 1ms/step - loss: 2.1693e-04 - accuracy: 2.8571e-04\n",
            "Epoch 39/100\n",
            "110/110 [==============================] - 0s 1ms/step - loss: 2.1873e-04 - accuracy: 2.8571e-04\n",
            "Epoch 40/100\n",
            "110/110 [==============================] - 0s 1ms/step - loss: 2.2814e-04 - accuracy: 2.8571e-04\n",
            "Epoch 41/100\n",
            "110/110 [==============================] - 0s 1ms/step - loss: 2.3218e-04 - accuracy: 2.8571e-04\n",
            "Epoch 42/100\n",
            "110/110 [==============================] - 0s 1ms/step - loss: 2.3665e-04 - accuracy: 2.8571e-04\n",
            "Epoch 43/100\n",
            "110/110 [==============================] - 0s 1ms/step - loss: 2.2358e-04 - accuracy: 2.8571e-04\n",
            "Epoch 44/100\n",
            "110/110 [==============================] - 0s 1ms/step - loss: 2.3313e-04 - accuracy: 2.8571e-04\n",
            "Epoch 45/100\n",
            "110/110 [==============================] - 0s 1ms/step - loss: 2.2084e-04 - accuracy: 2.8571e-04\n",
            "Epoch 46/100\n",
            "110/110 [==============================] - 0s 1ms/step - loss: 2.1944e-04 - accuracy: 2.8571e-04\n",
            "Epoch 47/100\n",
            "110/110 [==============================] - 0s 1ms/step - loss: 2.2528e-04 - accuracy: 2.8571e-04\n",
            "Epoch 48/100\n",
            "110/110 [==============================] - 0s 1ms/step - loss: 2.2753e-04 - accuracy: 2.8571e-04\n",
            "Epoch 49/100\n",
            "110/110 [==============================] - 0s 1ms/step - loss: 2.5033e-04 - accuracy: 2.8571e-04\n",
            "Epoch 50/100\n",
            "110/110 [==============================] - 0s 1ms/step - loss: 2.3992e-04 - accuracy: 2.8571e-04\n",
            "Epoch 51/100\n",
            "110/110 [==============================] - 0s 1ms/step - loss: 2.2624e-04 - accuracy: 2.8571e-04\n",
            "Epoch 52/100\n",
            "110/110 [==============================] - 0s 1ms/step - loss: 2.2385e-04 - accuracy: 2.8571e-04\n",
            "Epoch 53/100\n",
            "110/110 [==============================] - 0s 1ms/step - loss: 2.2933e-04 - accuracy: 2.8571e-04\n",
            "Epoch 54/100\n",
            "110/110 [==============================] - 0s 1ms/step - loss: 2.1981e-04 - accuracy: 2.8571e-04\n",
            "Epoch 55/100\n",
            "110/110 [==============================] - 0s 1ms/step - loss: 2.2494e-04 - accuracy: 2.8571e-04\n",
            "Epoch 56/100\n",
            "110/110 [==============================] - 0s 1ms/step - loss: 2.1077e-04 - accuracy: 2.8571e-04\n",
            "Epoch 57/100\n",
            "110/110 [==============================] - 0s 1ms/step - loss: 2.1859e-04 - accuracy: 2.8571e-04\n",
            "Epoch 58/100\n",
            "110/110 [==============================] - 0s 1ms/step - loss: 2.2743e-04 - accuracy: 2.8571e-04\n",
            "Epoch 59/100\n",
            "110/110 [==============================] - 0s 1ms/step - loss: 2.3503e-04 - accuracy: 2.8571e-04\n",
            "Epoch 60/100\n",
            "110/110 [==============================] - 0s 1ms/step - loss: 2.2788e-04 - accuracy: 2.8571e-04\n",
            "Epoch 61/100\n",
            "110/110 [==============================] - 0s 1ms/step - loss: 2.2878e-04 - accuracy: 2.8571e-04\n",
            "Epoch 62/100\n",
            "110/110 [==============================] - 0s 1ms/step - loss: 2.5811e-04 - accuracy: 2.8571e-04\n",
            "Epoch 63/100\n",
            "110/110 [==============================] - 0s 1ms/step - loss: 2.4555e-04 - accuracy: 2.8571e-04\n",
            "Epoch 64/100\n",
            "110/110 [==============================] - 0s 1ms/step - loss: 2.1966e-04 - accuracy: 2.8571e-04\n",
            "Epoch 65/100\n",
            "110/110 [==============================] - 0s 1ms/step - loss: 2.1623e-04 - accuracy: 2.8571e-04\n",
            "Epoch 66/100\n",
            "110/110 [==============================] - 0s 1ms/step - loss: 2.2330e-04 - accuracy: 2.8571e-04\n",
            "Epoch 67/100\n",
            "110/110 [==============================] - 0s 1ms/step - loss: 2.2358e-04 - accuracy: 2.8571e-04\n",
            "Epoch 68/100\n",
            "110/110 [==============================] - 0s 1ms/step - loss: 2.2262e-04 - accuracy: 2.8571e-04\n",
            "Epoch 69/100\n",
            "110/110 [==============================] - 0s 1ms/step - loss: 2.2610e-04 - accuracy: 2.8571e-04\n",
            "Epoch 70/100\n",
            "110/110 [==============================] - 0s 1ms/step - loss: 2.3293e-04 - accuracy: 2.8571e-04\n",
            "Epoch 71/100\n",
            "110/110 [==============================] - 0s 1ms/step - loss: 2.2158e-04 - accuracy: 2.8571e-04\n",
            "Epoch 72/100\n",
            "110/110 [==============================] - 0s 1ms/step - loss: 2.1498e-04 - accuracy: 2.8571e-04\n",
            "Epoch 73/100\n",
            "110/110 [==============================] - 0s 1ms/step - loss: 2.4305e-04 - accuracy: 2.8571e-04\n",
            "Epoch 74/100\n",
            "110/110 [==============================] - 0s 1ms/step - loss: 2.7072e-04 - accuracy: 2.8571e-04\n",
            "Epoch 75/100\n",
            "110/110 [==============================] - 0s 1ms/step - loss: 2.1290e-04 - accuracy: 2.8571e-04\n",
            "Epoch 76/100\n",
            "110/110 [==============================] - 0s 1ms/step - loss: 2.2496e-04 - accuracy: 2.8571e-04\n",
            "Epoch 77/100\n",
            "110/110 [==============================] - 0s 1ms/step - loss: 2.1944e-04 - accuracy: 2.8571e-04\n",
            "Epoch 78/100\n",
            "110/110 [==============================] - 0s 1ms/step - loss: 2.3824e-04 - accuracy: 2.8571e-04\n",
            "Epoch 79/100\n",
            "110/110 [==============================] - 0s 1ms/step - loss: 2.1838e-04 - accuracy: 2.8571e-04\n",
            "Epoch 80/100\n",
            "110/110 [==============================] - 0s 1ms/step - loss: 2.1333e-04 - accuracy: 2.8571e-04\n",
            "Epoch 81/100\n",
            "110/110 [==============================] - 0s 1ms/step - loss: 2.1569e-04 - accuracy: 2.8571e-04\n",
            "Epoch 82/100\n",
            "110/110 [==============================] - 0s 1ms/step - loss: 2.2314e-04 - accuracy: 2.8571e-04\n",
            "Epoch 83/100\n",
            "110/110 [==============================] - 0s 1ms/step - loss: 2.2116e-04 - accuracy: 2.8571e-04\n",
            "Epoch 84/100\n",
            "110/110 [==============================] - 0s 1ms/step - loss: 2.4281e-04 - accuracy: 2.8571e-04\n",
            "Epoch 85/100\n",
            "110/110 [==============================] - 0s 1ms/step - loss: 2.5186e-04 - accuracy: 2.8571e-04\n",
            "Epoch 86/100\n",
            "110/110 [==============================] - 0s 1ms/step - loss: 2.2426e-04 - accuracy: 2.8571e-04\n",
            "Epoch 87/100\n",
            "110/110 [==============================] - 0s 1ms/step - loss: 2.2952e-04 - accuracy: 2.8571e-04\n",
            "Epoch 88/100\n",
            "110/110 [==============================] - 0s 1ms/step - loss: 2.1779e-04 - accuracy: 2.8571e-04\n",
            "Epoch 89/100\n",
            "110/110 [==============================] - 0s 1ms/step - loss: 2.1169e-04 - accuracy: 2.8571e-04\n",
            "Epoch 90/100\n",
            "110/110 [==============================] - 0s 1ms/step - loss: 2.2930e-04 - accuracy: 2.8571e-04\n",
            "Epoch 91/100\n",
            "110/110 [==============================] - 0s 1ms/step - loss: 2.1674e-04 - accuracy: 2.8571e-04\n",
            "Epoch 92/100\n",
            "110/110 [==============================] - 0s 1ms/step - loss: 2.1868e-04 - accuracy: 2.8571e-04\n",
            "Epoch 93/100\n",
            "110/110 [==============================] - 0s 1ms/step - loss: 2.2066e-04 - accuracy: 2.8571e-04\n",
            "Epoch 94/100\n",
            "110/110 [==============================] - 0s 1ms/step - loss: 2.2479e-04 - accuracy: 2.8571e-04\n",
            "Epoch 95/100\n",
            "110/110 [==============================] - 0s 1ms/step - loss: 2.1522e-04 - accuracy: 2.8571e-04\n",
            "Epoch 96/100\n",
            "110/110 [==============================] - 0s 1ms/step - loss: 2.1063e-04 - accuracy: 2.8571e-04\n",
            "Epoch 97/100\n",
            "110/110 [==============================] - 0s 1ms/step - loss: 2.1886e-04 - accuracy: 2.8571e-04\n",
            "Epoch 98/100\n",
            "110/110 [==============================] - 0s 1ms/step - loss: 2.0918e-04 - accuracy: 2.8571e-04\n",
            "Epoch 99/100\n",
            "110/110 [==============================] - 0s 1ms/step - loss: 2.0985e-04 - accuracy: 2.8571e-04\n",
            "Epoch 100/100\n",
            "110/110 [==============================] - 0s 1ms/step - loss: 2.4221e-04 - accuracy: 2.8571e-04\n"
          ],
          "name": "stdout"
        },
        {
          "output_type": "error",
          "ename": "KeyboardInterrupt",
          "evalue": "ignored",
          "traceback": [
            "\u001b[0;31m---------------------------------------------------------------------------\u001b[0m",
            "\u001b[0;31mKeyboardInterrupt\u001b[0m                         Traceback (most recent call last)",
            "\u001b[0;32m<ipython-input-8-4ca214ef2765>\u001b[0m in \u001b[0;36m<module>\u001b[0;34m()\u001b[0m\n\u001b[1;32m     25\u001b[0m \u001b[0;31m# モデル構造の保存\u001b[0m\u001b[0;34m\u001b[0m\u001b[0;34m\u001b[0m\u001b[0;34m\u001b[0m\u001b[0m\n\u001b[1;32m     26\u001b[0m \u001b[0mmodel_json\u001b[0m \u001b[0;34m=\u001b[0m \u001b[0mmodel\u001b[0m\u001b[0;34m.\u001b[0m\u001b[0mto_json\u001b[0m\u001b[0;34m(\u001b[0m\u001b[0;34m)\u001b[0m\u001b[0;34m\u001b[0m\u001b[0;34m\u001b[0m\u001b[0m\n\u001b[0;32m---> 27\u001b[0;31m \u001b[0;32mwith\u001b[0m \u001b[0mopen\u001b[0m\u001b[0;34m(\u001b[0m\u001b[0mMODEL_PATH\u001b[0m\u001b[0;34m,\u001b[0m \u001b[0;34m\"w\"\u001b[0m\u001b[0;34m)\u001b[0m \u001b[0;32mas\u001b[0m \u001b[0mf\u001b[0m\u001b[0;34m:\u001b[0m\u001b[0;34m\u001b[0m\u001b[0;34m\u001b[0m\u001b[0m\n\u001b[0m\u001b[1;32m     28\u001b[0m     \u001b[0mjson\u001b[0m\u001b[0;34m.\u001b[0m\u001b[0mdump\u001b[0m\u001b[0;34m(\u001b[0m\u001b[0mmodel_json\u001b[0m\u001b[0;34m,\u001b[0m \u001b[0mf\u001b[0m\u001b[0;34m,\u001b[0m \u001b[0mindent\u001b[0m\u001b[0;34m=\u001b[0m\u001b[0;36m4\u001b[0m\u001b[0;34m)\u001b[0m\u001b[0;34m\u001b[0m\u001b[0;34m\u001b[0m\u001b[0m\n\u001b[1;32m     29\u001b[0m \u001b[0;31m# モデルの重みの保存\u001b[0m\u001b[0;34m\u001b[0m\u001b[0;34m\u001b[0m\u001b[0;34m\u001b[0m\u001b[0m\n",
            "\u001b[0;32m/usr/lib/python3.6/_bootlocale.py\u001b[0m in \u001b[0;36mgetpreferredencoding\u001b[0;34m(do_setlocale)\u001b[0m\n\u001b[1;32m     21\u001b[0m             \u001b[0;32mreturn\u001b[0m \u001b[0mlocale\u001b[0m\u001b[0;34m.\u001b[0m\u001b[0mgetpreferredencoding\u001b[0m\u001b[0;34m(\u001b[0m\u001b[0mdo_setlocale\u001b[0m\u001b[0;34m)\u001b[0m\u001b[0;34m\u001b[0m\u001b[0;34m\u001b[0m\u001b[0m\n\u001b[1;32m     22\u001b[0m     \u001b[0;32melse\u001b[0m\u001b[0;34m:\u001b[0m\u001b[0;34m\u001b[0m\u001b[0;34m\u001b[0m\u001b[0m\n\u001b[0;32m---> 23\u001b[0;31m         \u001b[0;32mdef\u001b[0m \u001b[0mgetpreferredencoding\u001b[0m\u001b[0;34m(\u001b[0m\u001b[0mdo_setlocale\u001b[0m\u001b[0;34m=\u001b[0m\u001b[0;32mTrue\u001b[0m\u001b[0;34m)\u001b[0m\u001b[0;34m:\u001b[0m\u001b[0;34m\u001b[0m\u001b[0;34m\u001b[0m\u001b[0m\n\u001b[0m\u001b[1;32m     24\u001b[0m             \u001b[0;32massert\u001b[0m \u001b[0;32mnot\u001b[0m \u001b[0mdo_setlocale\u001b[0m\u001b[0;34m\u001b[0m\u001b[0;34m\u001b[0m\u001b[0m\n\u001b[1;32m     25\u001b[0m             \u001b[0mresult\u001b[0m \u001b[0;34m=\u001b[0m \u001b[0m_locale\u001b[0m\u001b[0;34m.\u001b[0m\u001b[0mnl_langinfo\u001b[0m\u001b[0;34m(\u001b[0m\u001b[0m_locale\u001b[0m\u001b[0;34m.\u001b[0m\u001b[0mCODESET\u001b[0m\u001b[0;34m)\u001b[0m\u001b[0;34m\u001b[0m\u001b[0;34m\u001b[0m\u001b[0m\n",
            "\u001b[0;31mKeyboardInterrupt\u001b[0m: "
          ]
        }
      ]
    },
    {
      "cell_type": "code",
      "metadata": {
        "id": "oGIxuWNP_CqO",
        "colab_type": "code",
        "colab": {
          "base_uri": "https://localhost:8080/",
          "height": 722
        },
        "outputId": "85b261a5-28e0-45e3-bdc4-59f007cb57f1"
      },
      "source": [
        "import schedule\n",
        "import time\n",
        "from IPython.display import display, clear_output\n",
        "\n",
        "# 学習済みモデルの読み込み\n",
        "model_json = json.load(open(MODEL_PATH))\n",
        "model = tensorflow.keras.models.model_from_json(model_json)\n",
        "model.load_weights(WEIGHTS_PATH)\n",
        "\n",
        "plt.ion()\n",
        "fig, ax = plt.subplots()\n",
        "\n",
        "\n",
        "def predict():\n",
        "    prices = get_prices(GRANULARITY, 100, 1)\n",
        "    #sc = MinMaxScaler(feature_range=(0, 1))\n",
        "    prices_for_input = sc.fit_transform(prices)\n",
        "    # 実際の値と評価値を比較する\n",
        "    input_value = np.array([prices_for_input[-INPUT_LEN:]])\n",
        "    # 予想値\n",
        "    predicted_value = model.predict(input_value)\n",
        "    predicted_value = sc.inverse_transform(predicted_value)[0]\n",
        "\n",
        "    x = np.arange(len(prices))\n",
        "    # 実際の値のプロット\n",
        "    clear_output(wait=True)\n",
        "    ax.clear()\n",
        "    ax.plot(x, prices, label=\"real\")\n",
        "    ax.scatter([x[-1] + 1], predicted_value,\n",
        "               color=\"r\", label=\"predicted_value\")\n",
        "    ax.legend()\n",
        "    display(fig)\n",
        "    print(\"predicted_value:\", predicted_value)\n",
        "\n",
        "# 定期的に実行する時間とメソッドを設定\n",
        "schedule.every(PREDICT_INTERVAL).minutes.do(predict)\n",
        "\n",
        "# 定期的に実行\n",
        "while True:\n",
        "    schedule.run_pending()\n",
        "    time.sleep(1)\n"
      ],
      "execution_count": null,
      "outputs": [
        {
          "output_type": "display_data",
          "data": {
            "image/png": "[encoded data removed]",
            "text/plain": [
              "<Figure size 432x288 with 1 Axes>"
            ]
          },
          "metadata": {
            "tags": []
          }
        },
        {
          "output_type": "stream",
          "text": [
            "predicted_value: [105.44646]\n"
          ],
          "name": "stdout"
        },
        {
          "output_type": "error",
          "ename": "KeyboardInterrupt",
          "evalue": "ignored",
          "traceback": [
            "\u001b[0;31m---------------------------------------------------------------------------\u001b[0m",
            "\u001b[0;31mKeyboardInterrupt\u001b[0m                         Traceback (most recent call last)",
            "\u001b[0;32m<ipython-input-18-bfbc6f825a9d>\u001b[0m in \u001b[0;36m<module>\u001b[0;34m()\u001b[0m\n\u001b[1;32m     39\u001b[0m \u001b[0;32mwhile\u001b[0m \u001b[0;32mTrue\u001b[0m\u001b[0;34m:\u001b[0m\u001b[0;34m\u001b[0m\u001b[0;34m\u001b[0m\u001b[0m\n\u001b[1;32m     40\u001b[0m     \u001b[0mschedule\u001b[0m\u001b[0;34m.\u001b[0m\u001b[0mrun_pending\u001b[0m\u001b[0;34m(\u001b[0m\u001b[0;34m)\u001b[0m\u001b[0;34m\u001b[0m\u001b[0;34m\u001b[0m\u001b[0m\n\u001b[0;32m---> 41\u001b[0;31m     \u001b[0mtime\u001b[0m\u001b[0;34m.\u001b[0m\u001b[0msleep\u001b[0m\u001b[0;34m(\u001b[0m\u001b[0;36m1\u001b[0m\u001b[0;34m)\u001b[0m\u001b[0;34m\u001b[0m\u001b[0;34m\u001b[0m\u001b[0m\n\u001b[0m",
            "\u001b[0;31mKeyboardInterrupt\u001b[0m: "
          ]
        },
        {
          "output_type": "display_data",
          "data": {
            "image/png": "[encoded data removed]",
            "text/plain": [
              "<Figure size 432x288 with 1 Axes>"
            ]
          },
          "metadata": {
            "tags": [],
            "needs_background": "light"
          }
        }
      ]
    }
  ]
}